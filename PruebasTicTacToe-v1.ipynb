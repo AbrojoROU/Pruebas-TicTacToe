{
 "cells": [
  {
   "cell_type": "code",
   "execution_count": null,
   "metadata": {},
   "outputs": [],
   "source": [
    "#v1: Matriz con orden de movimientos (1,2,3, .., 9). Impares son X, pares son O.  0's son sin poner nada\n",
    "#Las etiquetas dicen \"ganado\" o \"empatados\", no distinguen entre gana X o gana O"
   ]
  },
  {
   "cell_type": "code",
   "execution_count": 227,
   "metadata": {},
   "outputs": [],
   "source": [
    "import numpy as np\n",
    "from copy import copy, deepcopy\n",
    "\n",
    "listaPartidas = []  \n",
    "listaEtiquetas = []\n",
    "\n",
    "def HayGanador(tablero):\n",
    "    #0 si nadie, 1 si cruz y 2 si circulo\n",
    "    result = False\n",
    "    \n",
    "    #filas\n",
    "    if (not(tablero[0,0]==0 or tablero[0,1]==0 or tablero[0,2]==0))\\\n",
    "        and ((tablero[0,0]%2 == tablero[0,1]%2 == tablero[0,2]%2 == 1) or (tablero[0,0]%2 == tablero[0,1]%2 == tablero[0,2]%2 == 0)):\n",
    "        result = True\n",
    "    if (not(tablero[1,0]==0 or tablero[1,1]==0 or tablero[1,2]==0))\\\n",
    "        and ((tablero[1,0]%2 == tablero[1,1]%2 == tablero[1,2]%2 == 1) or (tablero[1,0]%2 == tablero[1,1]%2 == tablero[1,2]%2 == 0)):\n",
    "        result = True\n",
    "    if (not(tablero[2,0]==0 or tablero[2,1]==0 or tablero[2,2]==0))\\\n",
    "        and ((tablero[2,0]%2 == tablero[2,1]%2 == tablero[2,2]%2 == 1) or (tablero[2,0]%2 == tablero[2,1]%2 == tablero[2,2]%2 == 0)):\n",
    "        result = True\n",
    "    #columnas\n",
    "    if (not(tablero[0,0]==0 or tablero[1,0]==0 or tablero[2,0]==0))\\\n",
    "        and ((tablero[0,0]%2 == tablero[1,0]%2 == tablero[2,0]%2 == 1) or (tablero[0,0]%2 == tablero[1,0]%2 == tablero[2,0]%2 == 0)):\n",
    "        result = True\n",
    "    if (not(tablero[0,1]==0 or tablero[1,1]==0 or tablero[2,1]==0))\\\n",
    "        and ((tablero[0,1]%2 == tablero[1,1]%2 == tablero[2,1]%2 == 1) or (tablero[0,1]%2 == tablero[1,1]%2 == tablero[2,1]%2 == 0)):\n",
    "        result = True\n",
    "    if (not(tablero[0,2]==0 or tablero[1,2]==0 or tablero[2,2]==0))\\\n",
    "        and ((tablero[0,2]%2 == tablero[1,2]%2 == tablero[2,2]%2 == 1) or (tablero[0,2]%2 == tablero[1,2]%2 == tablero[2,2]%2 == 0)):\n",
    "        result = True\n",
    "    #diagonales\n",
    "    if (not(tablero[0,0]==0 or tablero[1,1]==0 or tablero[2,2]==0))\\\n",
    "        and ((tablero[0,0]%2 == tablero[1,1]%2 == tablero[2,2]%2 == 1) or (tablero[0,0]%2 == tablero[1,1]%2 == tablero[2,2]%2 == 0)):\n",
    "        result = True\n",
    "    if (not(tablero[0,2]==0 or tablero[1,1]==0 or tablero[2,0]==0))\\\n",
    "        and ((tablero[0,2]%2 == tablero[1,1]%2 == tablero[2,0]%2 == 1) or (tablero[0,2]%2 == tablero[1,1]%2 == tablero[2,0]%2 == 0)):\n",
    "        result = True    \n",
    "    \n",
    "    return result\n",
    "\n",
    "def SiguienteMovimiento(tablero):\n",
    "    #devolver max+1\n",
    "    result = np.max(tablero) + 1\n",
    "    return result\n",
    "\n",
    "def JugarSiguiente(tableroPrevio):\n",
    "    tableroResult = tableroPrevio\n",
    "    global listaPartidas\n",
    "    \n",
    "    \n",
    "    #pseudocodigo\n",
    "    #if no hay movimientos posibles o alguien ya gano\n",
    "    #return tablero previo\n",
    "    #else mover y llamarme de nuevo de forma recursive\n",
    "    \n",
    "    #primero chequeo si hay ganador\n",
    "    ganador = HayGanador(tableroResult)\n",
    "    if ganador == True:\n",
    "        #print(tableroResult)\n",
    "        listaPartidas.append(deepcopy(tableroResult))\n",
    "        listaEtiquetas.append(1)\n",
    "        return tableroResult\n",
    "    \n",
    "    #si no hay ganador, chequeo si se pueden hacer movimientos\n",
    "    if ((tableroResult[tableroResult==0].size) ==0):\n",
    "        #Primero chequeo si no quedan movimientos posibles, en caso afirmativo retorno inmediatamente\n",
    "        #print(tableroResult)\n",
    "        listaPartidas.append(deepcopy(tableroResult))\n",
    "        listaEtiquetas.append(0)\n",
    "        return tableroResult\n",
    "        \n",
    "    elif (ganador==False):\n",
    "        for fila in range(3):\n",
    "            for columna in range(3):\n",
    "                if tableroResult[fila,columna] == 0:\n",
    "                    tableroResult[fila,columna] = SiguienteMovimiento(tableroResult)\n",
    "                    tableroResult = JugarSiguiente(tableroResult)\n",
    "                    tableroResult[fila,columna] = 0\n",
    "    \n",
    "    return tableroResult\n",
    "\n",
    "def GenerarPartidas():\n",
    "    global listaPartidas\n",
    "    print(\"Comenzando a iterar, deberia dar un total de: 255168\")\n",
    "    cuenta = 0\n",
    "    for fila in range(3):\n",
    "        for columna in range(3):\n",
    "            cuenta = cuenta + 1\n",
    "            print(\"iteracion \" + str(cuenta) + \" de 9\", end=\"\\r\") \n",
    "            \n",
    "            tablero = np.matrix([[0, 0, 0], [0, 0, 0], [0, 0, 0]])\n",
    "            tablero[fila,columna] = 1\n",
    "            \n",
    "            tablero = JugarSiguiente(tablero)\n",
    "    \n",
    "    print(\"\")\n",
    "    print(\"Se terminaron de generar partidas, total:\" + str(len(listaPartidas)))\n",
    "\n",
    "\n"
   ]
  },
  {
   "cell_type": "code",
   "execution_count": 228,
   "metadata": {},
   "outputs": [
    {
     "name": "stdout",
     "output_type": "stream",
     "text": [
      "iteracion 9 de 9\n",
      "255168\n"
     ]
    }
   ],
   "source": [
    "import numpy as np\n",
    "tablero = np.matrix([[1, 2, 3], \n",
    "                     [4, 1, 0], \n",
    "                     [5,3, 7]])\n",
    "\n",
    "#from copy import copy, deepcopy\n",
    "#y = deepcopy(x)\n",
    "#result = HayGanador(tablero)\n",
    "\n",
    "GenerarPartidas()\n",
    "\n",
    "\n"
   ]
  },
  {
   "cell_type": "code",
   "execution_count": 330,
   "metadata": {},
   "outputs": [
    {
     "name": "stdout",
     "output_type": "stream",
     "text": [
      "255168\n",
      "255168\n",
      "239999\n",
      "239999\n",
      "12000\n",
      "12000\n"
     ]
    }
   ],
   "source": [
    "import random\n",
    "\n",
    "print(len(listaPartidas))\n",
    "print(len(listaEtiquetas))\n",
    "\n",
    "\n",
    "train_set = listaPartidas[1:240000:1]\n",
    "train_labels = listaEtiquetas[1:240000:1]\n",
    "\n",
    "test_set = listaPartidas[240001:252001:1]\n",
    "test_labels = listaEtiquetas[240001:252001:1]\n",
    "\n",
    "\n",
    "\n",
    "print(len(train_set))\n",
    "print(len(train_labels))\n",
    "\n",
    "print(len(test_set))\n",
    "print(len(test_labels))"
   ]
  },
  {
   "cell_type": "code",
   "execution_count": 331,
   "metadata": {},
   "outputs": [
    {
     "data": {
      "text/plain": [
       "'2.2.4'"
      ]
     },
     "execution_count": 331,
     "metadata": {},
     "output_type": "execute_result"
    }
   ],
   "source": [
    "import keras\n",
    "keras.__version__"
   ]
  },
  {
   "cell_type": "code",
   "execution_count": 332,
   "metadata": {},
   "outputs": [],
   "source": [
    "from keras import models\n",
    "from keras import layers\n",
    "\n",
    "network = models.Sequential()\n",
    "network.add(layers.Dense(9, activation='relu', input_shape=(3 * 3,)))\n",
    "network.add(layers.Dense(9, activation='relu'))\n",
    "network.add(layers.Dense(2, activation='softmax'))"
   ]
  },
  {
   "cell_type": "code",
   "execution_count": 333,
   "metadata": {},
   "outputs": [],
   "source": [
    "network.compile(optimizer='rmsprop',\n",
    "                loss='categorical_crossentropy',\n",
    "                metrics=['accuracy'])"
   ]
  },
  {
   "cell_type": "code",
   "execution_count": 334,
   "metadata": {},
   "outputs": [],
   "source": [
    "train_set = np.squeeze(np.asarray(train_set))\n",
    "train_set = train_set.reshape((len(train_set), 3 * 3))\n",
    "train_set = train_set.astype('float32') / 9\n",
    "\n",
    "test_set = np.squeeze(np.asarray(test_set))\n",
    "test_set = test_set.reshape((len(test_set), 3 * 3))\n",
    "test_set = test_set.astype('float32') / 9"
   ]
  },
  {
   "cell_type": "code",
   "execution_count": 335,
   "metadata": {},
   "outputs": [],
   "source": [
    "from keras.utils import to_categorical\n",
    "\n",
    "train_labels = to_categorical(train_labels)\n",
    "test_labels = to_categorical(test_labels)"
   ]
  },
  {
   "cell_type": "code",
   "execution_count": 336,
   "metadata": {},
   "outputs": [
    {
     "name": "stdout",
     "output_type": "stream",
     "text": [
      "Epoch 1/5\n",
      "239999/239999 [==============================] - 2s 6us/step - loss: 0.3964 - acc: 0.8213\n",
      "Epoch 2/5\n",
      "239999/239999 [==============================] - 1s 5us/step - loss: 0.3195 - acc: 0.8260\n",
      "Epoch 3/5\n",
      "239999/239999 [==============================] - 1s 5us/step - loss: 0.3142 - acc: 0.8288\n",
      "Epoch 4/5\n",
      "239999/239999 [==============================] - 1s 5us/step - loss: 0.3129 - acc: 0.8298\n",
      "Epoch 5/5\n",
      "239999/239999 [==============================] - 1s 5us/step - loss: 0.3120 - acc: 0.8305\n"
     ]
    },
    {
     "data": {
      "text/plain": [
       "<keras.callbacks.History at 0x1cfebbb2cc0>"
      ]
     },
     "execution_count": 336,
     "metadata": {},
     "output_type": "execute_result"
    }
   ],
   "source": [
    "network.fit(train_set, train_labels, epochs=5, batch_size=128)"
   ]
  },
  {
   "cell_type": "code",
   "execution_count": 337,
   "metadata": {},
   "outputs": [
    {
     "name": "stdout",
     "output_type": "stream",
     "text": [
      "12000/12000 [==============================] - 0s 18us/step\n"
     ]
    }
   ],
   "source": [
    "test_loss, test_acc = network.evaluate(test_set, test_labels)"
   ]
  },
  {
   "cell_type": "code",
   "execution_count": 338,
   "metadata": {},
   "outputs": [
    {
     "name": "stdout",
     "output_type": "stream",
     "text": [
      "test_acc: 0.8195833333333333\n"
     ]
    }
   ],
   "source": [
    "print('test_acc:', test_acc)"
   ]
  },
  {
   "cell_type": "code",
   "execution_count": null,
   "metadata": {},
   "outputs": [],
   "source": []
  }
 ],
 "metadata": {
  "kernelspec": {
   "display_name": "Python 3",
   "language": "python",
   "name": "python3"
  },
  "language_info": {
   "codemirror_mode": {
    "name": "ipython",
    "version": 3
   },
   "file_extension": ".py",
   "mimetype": "text/x-python",
   "name": "python",
   "nbconvert_exporter": "python",
   "pygments_lexer": "ipython3",
   "version": "3.6.4"
  }
 },
 "nbformat": 4,
 "nbformat_minor": 2
}
