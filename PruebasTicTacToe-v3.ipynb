{
 "cells": [
  {
   "cell_type": "code",
   "execution_count": 5,
   "metadata": {},
   "outputs": [],
   "source": [
    "#v3 quitando la info de orden de movimientos mediante el metodo NormalizarTablero(), (0-\"vacio\", 1-\"X\", 2-\"O\")\n",
    "#A ver si esa informacion adicional (pero innecesaria) confundia la Red\n",
    "#La etiqueta continua igual. La misma puede ser 0, 1 o 2   (0-Empate, 1-ganó X, 2-ganó O)\n",
    "#adicionalmente, randomizamos el set de datos de train vs test\n",
    "\n",
    "#RESULTADOS TESTEO \n",
    "#\n",
    "#MODELO v2  maximo fue 0.82, hicieron falta 4 capas y mucha prueba y error\n",
    "#\n",
    "#MODELO V3\n",
    "#Con 2 capas (9 y 3)\n",
    "#  Epochs  |   Batch   | Score\n",
    "#  5,5,5   | 128,64,32 | 0.8628\n",
    "#  15,0,0  | 128,64,32 | 0.83\n",
    "#  0,15,0  | 128,64,32 | 0.8942\n",
    "#  0,0,15  | 128,64,32 | 0.8427\n",
    "#  0,10,5  | 128,64,32 | 0.901\n",
    "#  0,10,10 | 128,64,32 | 0.944\n",
    "\n",
    "#Con 3 capas (9,9 y 3)\n",
    "#  0,10,5  | 128,64,32 | 0.979\n",
    "#  0,10,10 | 128,64,32 | 0.984\n",
    "\n",
    "#Con 4 capas (9,9, 9 y 3)\n",
    "#  0,5,0  | 128,64,32 | 0.974\n",
    "#  0,5,5  | 128,64,32 | 0.994\n",
    "#  10,0,0 | 128,64,32 | 0.998   (USANDO ESTA!)\n",
    "#  0,10,0 | 128,64,32 | 0.971\n",
    "\n"
   ]
  },
  {
   "cell_type": "code",
   "execution_count": null,
   "metadata": {},
   "outputs": [],
   "source": [
    "import numpy as np\n",
    "from copy import copy, deepcopy\n",
    "import random\n",
    "import datetime\n",
    "\n",
    "listaPartidas = []  \n",
    "listaEtiquetas = []\n",
    "\n",
    "def HayGanador(tablero):\n",
    "    #Recibe un Tablero,\n",
    "    #retorna:   0 si nadie esta ganando, 1 si cruz y 2 si circulo\n",
    "    result = 0\n",
    "    \n",
    "    #filas\n",
    "    if (not(tablero[0,0]==0 or tablero[0,1]==0 or tablero[0,2]==0)) and (tablero[0,0]%2 == tablero[0,1]%2 == tablero[0,2]%2 == 1):\n",
    "        result = 1\n",
    "    if (not(tablero[0,0]==0 or tablero[0,1]==0 or tablero[0,2]==0)) and (tablero[0,0]%2 == tablero[0,1]%2 == tablero[0,2]%2 == 0):\n",
    "        result = 2       \n",
    "    if (not(tablero[1,0]==0 or tablero[1,1]==0 or tablero[1,2]==0)) and (tablero[1,0]%2 == tablero[1,1]%2 == tablero[1,2]%2 == 1): \n",
    "        result = 1\n",
    "    if (not(tablero[1,0]==0 or tablero[1,1]==0 or tablero[1,2]==0)) and (tablero[1,0]%2 == tablero[1,1]%2 == tablero[1,2]%2 == 0): \n",
    "        result = 2     \n",
    "    if (not(tablero[2,0]==0 or tablero[2,1]==0 or tablero[2,2]==0)) and (tablero[2,0]%2 == tablero[2,1]%2 == tablero[2,2]%2 == 1):\n",
    "        result = 1\n",
    "    if (not(tablero[2,0]==0 or tablero[2,1]==0 or tablero[2,2]==0)) and (tablero[2,0]%2 == tablero[2,1]%2 == tablero[2,2]%2 == 0):\n",
    "        result = 2    \n",
    "    \n",
    "    #columnas\n",
    "    if (not(tablero[0,0]==0 or tablero[1,0]==0 or tablero[2,0]==0)) and (tablero[0,0]%2 == tablero[1,0]%2 == tablero[2,0]%2 == 1):\n",
    "        result = 1\n",
    "    if (not(tablero[0,0]==0 or tablero[1,0]==0 or tablero[2,0]==0)) and (tablero[0,0]%2 == tablero[1,0]%2 == tablero[2,0]%2 == 0):\n",
    "        result = 2       \n",
    "    if (not(tablero[0,1]==0 or tablero[1,1]==0 or tablero[2,1]==0)) and (tablero[0,1]%2 == tablero[1,1]%2 == tablero[2,1]%2 == 1):\n",
    "        result = 1\n",
    "    if (not(tablero[0,1]==0 or tablero[1,1]==0 or tablero[2,1]==0)) and (tablero[0,1]%2 == tablero[1,1]%2 == tablero[2,1]%2 == 0):\n",
    "        result = 2            \n",
    "    if (not(tablero[0,2]==0 or tablero[1,2]==0 or tablero[2,2]==0)) and (tablero[0,2]%2 == tablero[1,2]%2 == tablero[2,2]%2 == 1):\n",
    "        result = 1\n",
    "    if (not(tablero[0,2]==0 or tablero[1,2]==0 or tablero[2,2]==0)) and (tablero[0,2]%2 == tablero[1,2]%2 == tablero[2,2]%2 == 0):\n",
    "        result = 2    \n",
    "        \n",
    "    #diagonales\n",
    "    if (not(tablero[0,0]==0 or tablero[1,1]==0 or tablero[2,2]==0)) and (tablero[0,0]%2 == tablero[1,1]%2 == tablero[2,2]%2 == 1):\n",
    "        result = 1\n",
    "    if (not(tablero[0,0]==0 or tablero[1,1]==0 or tablero[2,2]==0)) and (tablero[0,0]%2 == tablero[1,1]%2 == tablero[2,2]%2 == 0):\n",
    "        result = 2         \n",
    "    if (not(tablero[0,2]==0 or tablero[1,1]==0 or tablero[2,0]==0)) and (tablero[0,2]%2 == tablero[1,1]%2 == tablero[2,0]%2 == 1):\n",
    "        result = 1    \n",
    "    if (not(tablero[0,2]==0 or tablero[1,1]==0 or tablero[2,0]==0)) and (tablero[0,2]%2 == tablero[1,1]%2 == tablero[2,0]%2 == 0):\n",
    "        result = 2    \n",
    "    \n",
    "    return result\n",
    "\n",
    "def SiguienteMovimiento(tablero):\n",
    "    #devolver max+1\n",
    "    result = np.max(tablero) + 1\n",
    "    return result\n",
    "\n",
    "def NormalizarTablero(tablero):\n",
    "    #convierte la matriz a 1's (X) y 2's (O)\n",
    "    \n",
    "    tableroResult = deepcopy(tablero)\n",
    "    \n",
    "    for fila in range(3):\n",
    "            for columna in range(3):\n",
    "                if not(tableroResult[fila,columna] == 0):\n",
    "                    if (tableroResult[fila,columna]%2 == 1):\n",
    "                        tableroResult[fila,columna] = 1\n",
    "                    if (tableroResult[fila,columna]%2 == 0):\n",
    "                        tableroResult[fila,columna] = 2\n",
    "    return tableroResult               \n",
    "    \n",
    "def unison_shuffled_copies(a, b):\n",
    "    #SEEDING\n",
    "    from numpy.random import seed\n",
    "    seed(1)\n",
    "    from tensorflow import set_random_seed\n",
    "    set_random_seed(1)\n",
    "    \n",
    "    c = list(zip(a, b))\n",
    "    random.shuffle(c)\n",
    "    return zip(*c)\n",
    "\n",
    "def JugarSiguiente(tableroPrevio):  \n",
    "    tableroResult = tableroPrevio\n",
    "    global listaPartidas\n",
    "    global listaEtiquetas\n",
    "    \n",
    "    #Algoritmo recursivo\n",
    "    #Caso Base 1: si alguien ya gano. Agrego al set de datos y retorno\n",
    "    #Caso Base 2: No hay ganador pero tampoco  hay movimientos posibles. Agrego al set de datos y retorno\n",
    "    #Si no aplica ningun caso base, tomo un movimiento y hago llamado recursivo\n",
    "    \n",
    "    #Caso Base 1: si alguien ya gano\n",
    "    ganador = HayGanador(tableroResult)\n",
    "    if (ganador == 1) or (ganador == 2):\n",
    "        #print(tableroResult)\n",
    "        listaPartidas.append(NormalizarTablero(tableroResult))\n",
    "        listaEtiquetas.append(ganador)\n",
    "        return tableroResult\n",
    "    \n",
    "    #Caso Base 2: no quedan movimientos posibles\n",
    "    if ((tableroResult[tableroResult==0].size) ==0):\n",
    "        #al no quedar movimientos posibles y no haber ganador, esta partida es empate.\n",
    "        #print(tableroResult)\n",
    "        listaPartidas.append(NormalizarTablero(tableroResult))\n",
    "        listaEtiquetas.append(0)\n",
    "        return tableroResult\n",
    "        \n",
    "    elif (ganador==0):\n",
    "        for fila in range(3):\n",
    "            for columna in range(3):\n",
    "                if tableroResult[fila,columna] == 0:\n",
    "                    tableroResult[fila,columna] = SiguienteMovimiento(tableroResult)\n",
    "                    tableroResult = JugarSiguiente(tableroResult)\n",
    "                    tableroResult[fila,columna] = 0\n",
    "    \n",
    "    return tableroResult\n",
    "\n",
    "def GenerarPartidas():\n",
    "    global listaPartidas\n",
    "    global listaEtiquetas\n",
    "    listaPartidas = []  \n",
    "    listaEtiquetas = []\n",
    "    \n",
    "    #SEEDING\n",
    "    from numpy.random import seed\n",
    "    seed(1)\n",
    "    from tensorflow import set_random_seed\n",
    "    set_random_seed(1)\n",
    "\n",
    "    start_time = datetime.datetime.now()\n",
    "    print(\"Comenzando a iterar, deberia dar un total de: 255168\")\n",
    "    cuenta = 0\n",
    "    for fila in range(3):\n",
    "        for columna in range(3):\n",
    "            cuenta = cuenta + 1\n",
    "            print(\"iteracion \" + str(cuenta) + \" de 9\", end=\"\\r\") \n",
    "            \n",
    "            tablero = np.matrix([[0, 0, 0], [0, 0, 0], [0, 0, 0]])\n",
    "            tablero[fila,columna] = 1\n",
    "            \n",
    "            tablero = JugarSiguiente(tablero)\n",
    "    \n",
    "    print(\"\")\n",
    "    print(\"Se terminaron de generar partidas, total:\" + str(len(listaPartidas)))\n",
    "    print(\"randomizando datos..\")\n",
    "    (listaPartidas, listaEtiquetas) = unison_shuffled_copies(listaPartidas,listaEtiquetas)\n",
    "    \n",
    "    end_time = datetime.datetime.now()\n",
    "    print(\"Terminado! en t=\" + str(end_time-start_time) + \"  (partidas: \" +  str(len(listaPartidas)) + \", etiquetas: \" + str(len(listaEtiquetas)) + \")\" )\n",
    "\n",
    "\n"
   ]
  },
  {
   "cell_type": "code",
   "execution_count": null,
   "metadata": {},
   "outputs": [
    {
     "name": "stdout",
     "output_type": "stream",
     "text": [
      "Comenzando a iterar, deberia dar un total de: 255168\n",
      "iteracion 2 de 9\r"
     ]
    }
   ],
   "source": [
    "#import numpy as np\n",
    "#tablero = np.matrix([[1, 2, 0], \n",
    "#                     [1, 2, 0], \n",
    "#                     [0, 2, 1]])\n",
    "#HayGanador(tablero)\n",
    "\n",
    "GenerarPartidas()\n",
    "\n",
    "\n"
   ]
  },
  {
   "cell_type": "code",
   "execution_count": 4,
   "metadata": {},
   "outputs": [
    {
     "name": "stdout",
     "output_type": "stream",
     "text": [
      "[[1 1 2]\n",
      " [2 1 1]\n",
      " [2 1 2]]\n",
      "1\n"
     ]
    }
   ],
   "source": [
    "print(listaPartidas[3645])\n",
    "print(listaEtiquetas[3645])\n"
   ]
  },
  {
   "cell_type": "code",
   "execution_count": 5,
   "metadata": {},
   "outputs": [
    {
     "name": "stdout",
     "output_type": "stream",
     "text": [
      "0:00:00\n"
     ]
    }
   ],
   "source": [
    "start_time = datetime.datetime.now()\n",
    "end_time = datetime.datetime.now()\n",
    "print(end_time-start_time)"
   ]
  },
  {
   "cell_type": "code",
   "execution_count": 6,
   "metadata": {},
   "outputs": [
    {
     "name": "stderr",
     "output_type": "stream",
     "text": [
      "Using TensorFlow backend.\n"
     ]
    },
    {
     "data": {
      "text/plain": [
       "'2.2.4'"
      ]
     },
     "execution_count": 6,
     "metadata": {},
     "output_type": "execute_result"
    }
   ],
   "source": [
    "import keras\n",
    "keras.__version__"
   ]
  },
  {
   "cell_type": "code",
   "execution_count": 7,
   "metadata": {},
   "outputs": [
    {
     "name": "stdout",
     "output_type": "stream",
     "text": [
      "255168\n",
      "255168\n",
      "25516\n",
      "25516\n",
      "229649\n",
      "229649\n"
     ]
    }
   ],
   "source": [
    "import random\n",
    "import keras\n",
    "\n",
    "#SEEDING\n",
    "from numpy.random import seed\n",
    "seed(1)\n",
    "from tensorflow import set_random_seed\n",
    "set_random_seed(1)\n",
    "\n",
    "print(len(listaPartidas))\n",
    "print(len(listaEtiquetas))\n",
    "\n",
    "#Esta variable de ratio controla que % de datos se usan para entrenamiento, el resto sera validacion\n",
    "#Por ejemplo, 0.90 quiere decir que del total de datos, el 90% va para train y el 10% para test\n",
    "ratio_train = 0.10\n",
    "len_train = round(len(listaPartidas)*ratio_train)\n",
    "\n",
    "\n",
    "train_set = listaPartidas[1:len_train:1]\n",
    "train_labels = listaEtiquetas[1:len_train:1]\n",
    "\n",
    "test_set = listaPartidas[len_train+1:len(listaEtiquetas)-1:1]\n",
    "test_labels = listaEtiquetas[len_train+1:len(listaEtiquetas)-1:1]\n",
    "\n",
    "\n",
    "print(len(train_set))\n",
    "print(len(train_labels))\n",
    "\n",
    "print(len(test_set))\n",
    "print(len(test_labels))"
   ]
  },
  {
   "cell_type": "code",
   "execution_count": 8,
   "metadata": {},
   "outputs": [
    {
     "name": "stdout",
     "output_type": "stream",
     "text": [
      "WARNING:tensorflow:From C:\\Users\\MarcosP\\Anaconda3\\envs\\tf_gpu\\lib\\site-packages\\tensorflow\\python\\framework\\op_def_library.py:263: colocate_with (from tensorflow.python.framework.ops) is deprecated and will be removed in a future version.\n",
      "Instructions for updating:\n",
      "Colocations handled automatically by placer.\n"
     ]
    }
   ],
   "source": [
    "from keras import models\n",
    "from keras import layers\n",
    "\n",
    "network = models.Sequential()\n",
    "network.add(layers.Dense(9, activation='relu', input_shape=(3 * 3,)))\n",
    "network.add(layers.Dense(9, activation='relu'))\n",
    "network.add(layers.Dense(9, activation='relu'))\n",
    "network.add(layers.Dense(3, activation='softmax'))"
   ]
  },
  {
   "cell_type": "code",
   "execution_count": 9,
   "metadata": {},
   "outputs": [],
   "source": [
    "network.compile(optimizer='rmsprop',\n",
    "                loss='categorical_crossentropy',\n",
    "                metrics=['accuracy'])"
   ]
  },
  {
   "cell_type": "code",
   "execution_count": 10,
   "metadata": {},
   "outputs": [],
   "source": [
    "#ajusto formas de datos a lo especificado en las capas de la red neuronal (shape a 3*3)\n",
    "#divido los numeros en los datos para que los valores esten todos entre [0,1]\n",
    "\n",
    "train_set = np.squeeze(np.asarray(train_set))\n",
    "train_set = train_set.reshape((len(train_set), 3 * 3))\n",
    "train_set = train_set.astype('float32') / 2\n",
    "\n",
    "test_set = np.squeeze(np.asarray(test_set))\n",
    "test_set = test_set.reshape((len(test_set), 3 * 3))\n",
    "test_set = test_set.astype('float32') / 2"
   ]
  },
  {
   "cell_type": "code",
   "execution_count": 11,
   "metadata": {},
   "outputs": [],
   "source": [
    "from keras.utils import to_categorical\n",
    "\n",
    "train_labels = to_categorical(train_labels)\n",
    "test_labels = to_categorical(test_labels)\n",
    "\n"
   ]
  },
  {
   "cell_type": "code",
   "execution_count": 16,
   "metadata": {},
   "outputs": [
    {
     "name": "stdout",
     "output_type": "stream",
     "text": [
      "Epoch 1/10\n",
      "25516/25516 [==============================] - 4s 150us/step - loss: 0.0176 - acc: 0.9958\n",
      "Epoch 2/10\n",
      "25516/25516 [==============================] - 4s 148us/step - loss: 0.0154 - acc: 0.9964\n",
      "Epoch 3/10\n",
      "25516/25516 [==============================] - 4s 145us/step - loss: 0.0134 - acc: 0.9968\n",
      "Epoch 4/10\n",
      "25516/25516 [==============================] - 4s 143us/step - loss: 0.0100 - acc: 0.9974\n",
      "Epoch 5/10\n",
      "25516/25516 [==============================] - 4s 141us/step - loss: 0.0079 - acc: 0.9976\n",
      "Epoch 6/10\n",
      "25516/25516 [==============================] - 4s 146us/step - loss: 0.0056 - acc: 0.9980\n",
      "Epoch 7/10\n",
      "25516/25516 [==============================] - 4s 146us/step - loss: 0.0042 - acc: 0.9982\n",
      "Epoch 8/10\n",
      "25516/25516 [==============================] - 4s 153us/step - loss: 0.0025 - acc: 0.9989\n",
      "Epoch 9/10\n",
      "25516/25516 [==============================] - 4s 148us/step - loss: 0.0018 - acc: 0.9993\n",
      "Epoch 10/10\n",
      "25516/25516 [==============================] - 4s 149us/step - loss: 0.0012 - acc: 0.9996\n"
     ]
    },
    {
     "data": {
      "text/plain": [
       "<keras.callbacks.History at 0x1e84c6d9278>"
      ]
     },
     "execution_count": 16,
     "metadata": {},
     "output_type": "execute_result"
    }
   ],
   "source": [
    "network.fit(train_set, train_labels, epochs=10, batch_size=16)\n",
    "#network.fit(train_set, train_labels, epochs=10, batch_size=64)\n",
    "#network.fit(train_set, train_labels, epochs=5, batch_size=32)"
   ]
  },
  {
   "cell_type": "code",
   "execution_count": null,
   "metadata": {},
   "outputs": [],
   "source": [
    "test_loss, test_acc = network.evaluate(test_set, test_labels)\n",
    "print('test_acc:', test_acc)"
   ]
  },
  {
   "cell_type": "code",
   "execution_count": null,
   "metadata": {},
   "outputs": [],
   "source": []
  },
  {
   "cell_type": "code",
   "execution_count": null,
   "metadata": {},
   "outputs": [],
   "source": []
  }
 ],
 "metadata": {
  "kernelspec": {
   "display_name": "Python 3",
   "language": "python",
   "name": "python3"
  },
  "language_info": {
   "codemirror_mode": {
    "name": "ipython",
    "version": 3
   },
   "file_extension": ".py",
   "mimetype": "text/x-python",
   "name": "python",
   "nbconvert_exporter": "python",
   "pygments_lexer": "ipython3",
   "version": "3.6.4"
  }
 },
 "nbformat": 4,
 "nbformat_minor": 2
}
