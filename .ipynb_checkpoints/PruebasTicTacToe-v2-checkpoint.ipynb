{
 "cells": [
  {
   "cell_type": "code",
   "execution_count": 200,
   "metadata": {},
   "outputs": [],
   "source": [
    "#v2: Matriz con orden de movimientos (1,2,3, .., 9). Impares son X, pares son O.  0's son sin poner nada\n",
    "#La etiqueta ahora distingue entre X o O. La misma puede ser 0, 1 o 2   (0-Empate, 1-gano X, 2-gano O)"
   ]
  },
  {
   "cell_type": "code",
   "execution_count": 201,
   "metadata": {},
   "outputs": [],
   "source": [
    "import numpy as np\n",
    "from copy import copy, deepcopy\n",
    "\n",
    "listaPartidas = []  \n",
    "listaEtiquetas = []\n",
    "\n",
    "def HayGanador(tablero):\n",
    "    #Recibe un Tablero,\n",
    "    #retorna:   0 si nadie esta ganando, 1 si cruz y 2 si circulo\n",
    "    result = 0\n",
    "    \n",
    "    #filas\n",
    "    if (not(tablero[0,0]==0 or tablero[0,1]==0 or tablero[0,2]==0)) and (tablero[0,0]%2 == tablero[0,1]%2 == tablero[0,2]%2 == 1):\n",
    "        result = 1\n",
    "    if (not(tablero[0,0]==0 or tablero[0,1]==0 or tablero[0,2]==0)) and (tablero[0,0]%2 == tablero[0,1]%2 == tablero[0,2]%2 == 0):\n",
    "        result = 2       \n",
    "    if (not(tablero[1,0]==0 or tablero[1,1]==0 or tablero[1,2]==0)) and (tablero[1,0]%2 == tablero[1,1]%2 == tablero[1,2]%2 == 1): \n",
    "        result = 1\n",
    "    if (not(tablero[1,0]==0 or tablero[1,1]==0 or tablero[1,2]==0)) and (tablero[1,0]%2 == tablero[1,1]%2 == tablero[1,2]%2 == 0): \n",
    "        result = 2     \n",
    "    if (not(tablero[2,0]==0 or tablero[2,1]==0 or tablero[2,2]==0)) and (tablero[2,0]%2 == tablero[2,1]%2 == tablero[2,2]%2 == 1):\n",
    "        result = 1\n",
    "    if (not(tablero[2,0]==0 or tablero[2,1]==0 or tablero[2,2]==0)) and (tablero[2,0]%2 == tablero[2,1]%2 == tablero[2,2]%2 == 0):\n",
    "        result = 2    \n",
    "    \n",
    "    #columnas\n",
    "    if (not(tablero[0,0]==0 or tablero[1,0]==0 or tablero[2,0]==0)) and (tablero[0,0]%2 == tablero[1,0]%2 == tablero[2,0]%2 == 1):\n",
    "        result = 1\n",
    "    if (not(tablero[0,0]==0 or tablero[1,0]==0 or tablero[2,0]==0)) and (tablero[0,0]%2 == tablero[1,0]%2 == tablero[2,0]%2 == 0):\n",
    "        result = 2       \n",
    "    if (not(tablero[0,1]==0 or tablero[1,1]==0 or tablero[2,1]==0)) and (tablero[0,1]%2 == tablero[1,1]%2 == tablero[2,1]%2 == 1):\n",
    "        result = 1\n",
    "    if (not(tablero[0,1]==0 or tablero[1,1]==0 or tablero[2,1]==0)) and (tablero[0,1]%2 == tablero[1,1]%2 == tablero[2,1]%2 == 0):\n",
    "        result = 2            \n",
    "    if (not(tablero[0,2]==0 or tablero[1,2]==0 or tablero[2,2]==0)) and (tablero[0,2]%2 == tablero[1,2]%2 == tablero[2,2]%2 == 1):\n",
    "        result = 1\n",
    "    if (not(tablero[0,2]==0 or tablero[1,2]==0 or tablero[2,2]==0)) and (tablero[0,2]%2 == tablero[1,2]%2 == tablero[2,2]%2 == 0):\n",
    "        result = 2    \n",
    "        \n",
    "    #diagonales\n",
    "    if (not(tablero[0,0]==0 or tablero[1,1]==0 or tablero[2,2]==0)) and (tablero[0,0]%2 == tablero[1,1]%2 == tablero[2,2]%2 == 1):\n",
    "        result = 1\n",
    "    if (not(tablero[0,0]==0 or tablero[1,1]==0 or tablero[2,2]==0)) and (tablero[0,0]%2 == tablero[1,1]%2 == tablero[2,2]%2 == 0):\n",
    "        result = 2         \n",
    "    if (not(tablero[0,2]==0 or tablero[1,1]==0 or tablero[2,0]==0)) and (tablero[0,2]%2 == tablero[1,1]%2 == tablero[2,0]%2 == 1):\n",
    "        result = 1    \n",
    "    if (not(tablero[0,2]==0 or tablero[1,1]==0 or tablero[2,0]==0)) and (tablero[0,2]%2 == tablero[1,1]%2 == tablero[2,0]%2 == 0):\n",
    "        result = 2    \n",
    "    \n",
    "    return result\n",
    "\n",
    "def SiguienteMovimiento(tablero):\n",
    "    #devolver max+1\n",
    "    result = np.max(tablero) + 1\n",
    "    return result\n",
    "\n",
    "def JugarSiguiente(tableroPrevio):  \n",
    "    tableroResult = tableroPrevio\n",
    "    global listaPartidas\n",
    "    \n",
    "    \n",
    "    #Algoritmo recursivo\n",
    "    #Caso Base 1: si alguien ya gano. Agrego al set de datos y retorno\n",
    "    #Caso Base 2: No hay ganador pero tampoco  hay movimientos posibles. Agrego al set de datos y retorno\n",
    "    #Si no aplica ningun caso base, tomo un movimiento y hago llamado recursivo\n",
    "    \n",
    "    #Caso Base 1: si alguien ya gano\n",
    "    ganador = HayGanador(tableroResult)\n",
    "    if (ganador == 1) or (ganador == 2):\n",
    "        #print(tableroResult)\n",
    "        listaPartidas.append(deepcopy(tableroResult))\n",
    "        listaEtiquetas.append(ganador)\n",
    "        return tableroResult\n",
    "    \n",
    "    #Caso Base 2: no quedan movimientos posibles\n",
    "    if ((tableroResult[tableroResult==0].size) ==0):\n",
    "        #al no quedar movimientos posibles y no haber ganador, esta partida es empate.\n",
    "        #print(tableroResult)\n",
    "        listaPartidas.append(deepcopy(tableroResult))\n",
    "        listaEtiquetas.append(0)\n",
    "        return tableroResult\n",
    "        \n",
    "    elif (ganador==0):\n",
    "        for fila in range(3):\n",
    "            for columna in range(3):\n",
    "                if tableroResult[fila,columna] == 0:\n",
    "                    tableroResult[fila,columna] = SiguienteMovimiento(tableroResult)\n",
    "                    tableroResult = JugarSiguiente(tableroResult)\n",
    "                    tableroResult[fila,columna] = 0\n",
    "    \n",
    "    return tableroResult\n",
    "\n",
    "def GenerarPartidas():\n",
    "    global listaPartidas\n",
    "    print(\"Comenzando a iterar, deberia dar un total de: 255168\")\n",
    "    cuenta = 0\n",
    "    for fila in range(3):\n",
    "        for columna in range(3):\n",
    "            cuenta = cuenta + 1\n",
    "            print(\"iteracion \" + str(cuenta) + \" de 9\", end=\"\\r\") \n",
    "            \n",
    "            tablero = np.matrix([[0, 0, 0], [0, 0, 0], [0, 0, 0]])\n",
    "            tablero[fila,columna] = 1\n",
    "            \n",
    "            tablero = JugarSiguiente(tablero)\n",
    "    \n",
    "    print(\"\")    \n",
    "    print(\"Se terminaron de generar partidas, total:\" + str(len(listaPartidas)))\n",
    "\n",
    "\n"
   ]
  },
  {
   "cell_type": "code",
   "execution_count": 202,
   "metadata": {},
   "outputs": [
    {
     "name": "stdout",
     "output_type": "stream",
     "text": [
      "Comenzando a iterar, deberia dar un total de: 255168\n",
      "iteracion 9 de 9\n",
      "Se terminaron de generar partidas, total:255168\n"
     ]
    }
   ],
   "source": [
    "import numpy as np\n",
    "tablero = np.matrix([[1, 6, 0], \n",
    "                     [3, 2, 0], \n",
    "                     [0, 4, 5]])\n",
    "\n",
    "\n",
    "#HayGanador(tablero)\n",
    "\n",
    "\n",
    "GenerarPartidas()\n",
    "\n",
    "\n"
   ]
  },
  {
   "cell_type": "code",
   "execution_count": 203,
   "metadata": {},
   "outputs": [
    {
     "name": "stdout",
     "output_type": "stream",
     "text": [
      "[[1 2 7]\n",
      " [6 0 5]\n",
      " [0 4 3]]\n",
      "1\n"
     ]
    }
   ],
   "source": [
    "print(listaPartidas[3645])\n",
    "print(listaEtiquetas[3645])"
   ]
  },
  {
   "cell_type": "code",
   "execution_count": 211,
   "metadata": {},
   "outputs": [
    {
     "name": "stdout",
     "output_type": "stream",
     "text": [
      "255168\n",
      "255168\n",
      "229650\n",
      "229650\n",
      "25515\n",
      "25515\n"
     ]
    }
   ],
   "source": [
    "import random\n",
    "\n",
    "print(len(listaPartidas))\n",
    "print(len(listaEtiquetas))\n",
    "\n",
    "\n",
    "ratio_train = 0.90\n",
    "len_train = round(len(listaPartidas)*ratio_train)\n",
    "\n",
    "\n",
    "train_set = listaPartidas[1:len_train:1]\n",
    "train_labels = listaEtiquetas[1:len_train:1]\n",
    "\n",
    "test_set = listaPartidas[len_train+1:len(listaEtiquetas)-1:1]\n",
    "test_labels = listaEtiquetas[len_train+1:len(listaEtiquetas)-1:1]\n",
    "\n",
    "\n",
    "print(len(train_set))\n",
    "print(len(train_labels))\n",
    "\n",
    "print(len(test_set))\n",
    "print(len(test_labels))"
   ]
  },
  {
   "cell_type": "code",
   "execution_count": 212,
   "metadata": {},
   "outputs": [
    {
     "data": {
      "text/plain": [
       "'2.2.4'"
      ]
     },
     "execution_count": 212,
     "metadata": {},
     "output_type": "execute_result"
    }
   ],
   "source": [
    "import keras\n",
    "keras.__version__"
   ]
  },
  {
   "cell_type": "code",
   "execution_count": 213,
   "metadata": {},
   "outputs": [],
   "source": [
    "from keras import models\n",
    "from keras import layers\n",
    "\n",
    "network = models.Sequential()\n",
    "network.add(layers.Dense(9, activation='relu', input_shape=(3 * 3,)))\n",
    "network.add(layers.Dense(9, activation='relu'))\n",
    "network.add(layers.Dense(9, activation='relu'))\n",
    "network.add(layers.Dense(3, activation='softmax'))"
   ]
  },
  {
   "cell_type": "code",
   "execution_count": 214,
   "metadata": {},
   "outputs": [],
   "source": [
    "network.compile(optimizer='rmsprop',\n",
    "                loss='categorical_crossentropy',\n",
    "                metrics=['accuracy'])"
   ]
  },
  {
   "cell_type": "code",
   "execution_count": 215,
   "metadata": {},
   "outputs": [],
   "source": [
    "train_set = np.squeeze(np.asarray(train_set))\n",
    "train_set = train_set.reshape((len(train_set), 3 * 3))\n",
    "train_set = train_set.astype('float32') / 9\n",
    "\n",
    "test_set = np.squeeze(np.asarray(test_set))\n",
    "test_set = test_set.reshape((len(test_set), 3 * 3))\n",
    "test_set = test_set.astype('float32') / 9"
   ]
  },
  {
   "cell_type": "code",
   "execution_count": 216,
   "metadata": {},
   "outputs": [],
   "source": [
    "from keras.utils import to_categorical\n",
    "\n",
    "train_labels = to_categorical(train_labels)\n",
    "test_labels = to_categorical(test_labels)"
   ]
  },
  {
   "cell_type": "code",
   "execution_count": 217,
   "metadata": {},
   "outputs": [
    {
     "name": "stdout",
     "output_type": "stream",
     "text": [
      "Epoch 1/10\n",
      "229650/229650 [==============================] - 2s 8us/step - loss: 0.8360 - acc: 0.5267\n",
      "Epoch 2/10\n",
      "229650/229650 [==============================] - 1s 5us/step - loss: 0.4033 - acc: 0.7978\n",
      "Epoch 3/10\n",
      "229650/229650 [==============================] - 1s 5us/step - loss: 0.3608 - acc: 0.8000\n",
      "Epoch 4/10\n",
      "229650/229650 [==============================] - 1s 5us/step - loss: 0.3412 - acc: 0.8143\n",
      "Epoch 5/10\n",
      "229650/229650 [==============================] - 1s 5us/step - loss: 0.3334 - acc: 0.8180\n",
      "Epoch 6/10\n",
      "229650/229650 [==============================] - 1s 5us/step - loss: 0.3305 - acc: 0.8191\n",
      "Epoch 7/10\n",
      "229650/229650 [==============================] - 1s 5us/step - loss: 0.3279 - acc: 0.8192\n",
      "Epoch 8/10\n",
      "229650/229650 [==============================] - 1s 5us/step - loss: 0.3234 - acc: 0.8215\n",
      "Epoch 9/10\n",
      "229650/229650 [==============================] - 1s 5us/step - loss: 0.3180 - acc: 0.8252\n",
      "Epoch 10/10\n",
      "229650/229650 [==============================] - 1s 5us/step - loss: 0.3163 - acc: 0.8241\n"
     ]
    },
    {
     "data": {
      "text/plain": [
       "<keras.callbacks.History at 0x228557bce80>"
      ]
     },
     "execution_count": 217,
     "metadata": {},
     "output_type": "execute_result"
    }
   ],
   "source": [
    "network.fit(train_set, train_labels, epochs=10, batch_size=128)"
   ]
  },
  {
   "cell_type": "code",
   "execution_count": 218,
   "metadata": {},
   "outputs": [
    {
     "name": "stdout",
     "output_type": "stream",
     "text": [
      "25515/25515 [==============================] - 0s 17us/step\n",
      "test_acc: 0.840015677050378\n"
     ]
    }
   ],
   "source": [
    "test_loss, test_acc = network.evaluate(test_set, test_labels)\n",
    "print('test_acc:', test_acc)"
   ]
  },
  {
   "cell_type": "code",
   "execution_count": null,
   "metadata": {},
   "outputs": [],
   "source": []
  },
  {
   "cell_type": "code",
   "execution_count": null,
   "metadata": {},
   "outputs": [],
   "source": []
  }
 ],
 "metadata": {
  "kernelspec": {
   "display_name": "Python 3",
   "language": "python",
   "name": "python3"
  },
  "language_info": {
   "codemirror_mode": {
    "name": "ipython",
    "version": 3
   },
   "file_extension": ".py",
   "mimetype": "text/x-python",
   "name": "python",
   "nbconvert_exporter": "python",
   "pygments_lexer": "ipython3",
   "version": "3.6.4"
  }
 },
 "nbformat": 4,
 "nbformat_minor": 2
}
